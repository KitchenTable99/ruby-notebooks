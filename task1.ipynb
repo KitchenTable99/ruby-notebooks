{
 "cells": [
  {
   "cell_type": "markdown",
   "id": "planned-morning",
   "metadata": {},
   "source": [
    "# Introduction to naming in Ruby\n",
    "## Local Variables"
   ]
  },
  {
   "cell_type": "code",
   "execution_count": 1,
   "id": "outdoor-dance",
   "metadata": {},
   "outputs": [
    {
     "name": "stdout",
     "output_type": "stream",
     "text": [
      "4\n",
      "b is not defined\n",
      "c is not defined\n"
     ]
    }
   ],
   "source": [
    "a = 4\n",
    "puts defined?(a) ? a : 'a is not defined'   # this is a fancy way to avoid NameErrors\n",
    "\n",
    "def local_var\n",
    "  b = 5\n",
    "end\n",
    "puts defined?(b) ? b : 'b is not defined'\n",
    "\n",
    "c = 6\n",
    "def top_level_locality\n",
    "  puts defined?(c) ? c : 'c is not defined'\n",
    "end\n",
    "top_level_locality"
   ]
  },
  {
   "cell_type": "markdown",
   "id": "foster-outreach",
   "metadata": {},
   "source": [
    "It is interesting to note that though we declared the variable c in the top-level, it was not defined in the method `top_level_locality`.  This is because the top-level is a local scope in Ruby. We declare global variables in Ruby using the `$` characeter. More on that later."
   ]
  },
  {
   "cell_type": "markdown",
   "id": "veterinary-newcastle",
   "metadata": {},
   "source": [
    "### Interesting cases\n",
    "We can overcome the encapsulation displayed above using certain closure definitions... In the function `inner_scope`, the value of the variable word is `bar`, yet each of the outputs prints `foo` becasuse of closure definitions. Read more about that [here](https://ruby-doc.org/core-2.5.1/Binding.html)."
   ]
  },
  {
   "cell_type": "code",
   "execution_count": 2,
   "id": "synthetic-tractor",
   "metadata": {},
   "outputs": [
    {
     "name": "stdout",
     "output_type": "stream",
     "text": [
      "foo\n",
      "foo\n",
      "foo\n"
     ]
    }
   ],
   "source": [
    "word = \"foo\"\n",
    "define_method :x do\n",
    "  puts word\n",
    "end\n",
    "\n",
    "y = Proc.new {puts word}\n",
    "\n",
    "z = lambda {puts word}\n",
    "  \n",
    "def inner_scope(proc_obj, lambda_obj)\n",
    "  word = \"bar\"\n",
    "  x\n",
    "  proc_obj.call\n",
    "  lambda_obj.call\n",
    "end\n",
    "  \n",
    "inner_scope(y, z)"
   ]
  },
  {
   "cell_type": "markdown",
   "id": "major-attention",
   "metadata": {},
   "source": [
    "While it is poor practice to do so, it is possible to assign the same name to both a method and a local variable. In that case, the variable will preceed the method. In the example below, the puts statements will output a 4 if they refer to the variable a and a 5 if they refer to the method."
   ]
  },
  {
   "cell_type": "code",
   "execution_count": 3,
   "id": "hybrid-communist",
   "metadata": {},
   "outputs": [
    {
     "name": "stdout",
     "output_type": "stream",
     "text": [
      "4\n",
      "5\n"
     ]
    }
   ],
   "source": [
    "def a\n",
    "    5\n",
    "end\n",
    "puts a\n",
    "# If you really need to get around this method/variable naming limitation, you can use the send keyword...\n",
    "puts send :a"
   ]
  },
  {
   "cell_type": "markdown",
   "id": "silent-console",
   "metadata": {},
   "source": [
    "## Global Variables\n",
    "Below is an example of how to declare and use global variables. Placing the variable in all caps will accomplish the same thing."
   ]
  },
  {
   "cell_type": "code",
   "execution_count": 4,
   "id": "common-terror",
   "metadata": {},
   "outputs": [
    {
     "name": "stdout",
     "output_type": "stream",
     "text": [
      "6\n",
      "7\n"
     ]
    }
   ],
   "source": [
    "$c = 6\n",
    "def global_ex\n",
    "  puts defined?($c) ? $c : '$c is not defined'\n",
    "end\n",
    "global_ex\n",
    "\n",
    "D = 7\n",
    "def const_ex\n",
    "  puts defined?(D) ? D : 'D is not defined'\n",
    "end\n",
    "const_ex"
   ]
  },
  {
   "cell_type": "markdown",
   "id": "blank-shopper",
   "metadata": {},
   "source": [
    "## Class and Instance Variables\n",
    "Class variables are denoted by `@@` while instance variables are denoted by `@`. There are some rather interesting identifier linkages formed by Ruby with respect to an object's methods. More on that in a bit. Below, notice how even though we set `id` to `false` both singleton-instances of the Customer class have their unique id's."
   ]
  },
  {
   "cell_type": "code",
   "execution_count": 5,
   "id": "banned-composer",
   "metadata": {},
   "outputs": [
    {
     "name": "stdout",
     "output_type": "stream",
     "text": [
      "9999\n",
      "8888\n"
     ]
    }
   ],
   "source": [
    "class Customer\n",
    "  @@no_of_customers = 0\n",
    "\n",
    "  def initialize(id, name, addr)\n",
    "    @id = id\n",
    "    id = 'false'       # this is different than setting the instance variable\n",
    "    @name = name\n",
    "    @addr = addr\n",
    "    @@no_of_customers += 1\n",
    "  end\n",
    "  \n",
    "  def print_id\n",
    "    puts @id\n",
    "  end\n",
    "  \n",
    "  class << self\n",
    "    def print_num_cust\n",
    "      puts @@no_of_customers\n",
    "    end\n",
    "  end\n",
    "end\n",
    "\n",
    "cust1 = Customer.new('9999', 'Caleb Bitting', 'Mary Low 311')\n",
    "cust2 = Customer.new('8888', 'John Connors', 'Mary Low 312')\n",
    "\n",
    "cust1.print_id\n",
    "cust2.print_id"
   ]
  },
  {
   "cell_type": "markdown",
   "id": "lonely-correspondence",
   "metadata": {},
   "source": [
    "Notice that weird `class << self` section? That marks a shift to defining class methods. Notice what happens when we try to call the method `print_num_cust` on an instance and on the Class itself."
   ]
  },
  {
   "cell_type": "code",
   "execution_count": 6,
   "id": "british-cheat",
   "metadata": {},
   "outputs": [
    {
     "name": "stdout",
     "output_type": "stream",
     "text": [
      "An error occured when attempting to print the number of customers from an object\n",
      "2\n"
     ]
    }
   ],
   "source": [
    "begin\n",
    "  cust1.print_num_cust\n",
    "rescue\n",
    "  puts 'An error occured when attempting to print the number of customers from an object'\n",
    "end\n",
    "\n",
    "Customer.print_num_cust"
   ]
  },
  {
   "cell_type": "markdown",
   "id": "disabled-status",
   "metadata": {},
   "source": [
    "## A brief discussion about Modules\n",
    "A module behaves much the same as a class but modules cannot generate instances. See the examples below for nearly identical funcitonality as described when talking about classes."
   ]
  },
  {
   "cell_type": "code",
   "execution_count": 7,
   "id": "automatic-outdoors",
   "metadata": {},
   "outputs": [
    {
     "name": "stdout",
     "output_type": "stream",
     "text": [
      "A vehicle of transportation\n",
      "An error occured when trying to call the method engine on the Module Car\n"
     ]
    }
   ],
   "source": [
    "module Car\n",
    "  def self.description\n",
    "    \"A vehicle of transportation\"\n",
    "  end\n",
    "  def engine\n",
    "    \"vroom\"\n",
    "  end\n",
    "end\n",
    "\n",
    "# call the Module method on the Module\n",
    "puts Car.description\n",
    "\n",
    "# try to call a method defined in the Module on the Module itself\n",
    "begin\n",
    "  Car.engine\n",
    "rescue\n",
    "  puts \"An error occured when trying to call the method engine on the Module Car\"\n",
    "end"
   ]
  },
  {
   "cell_type": "code",
   "execution_count": 8,
   "id": "sought-underwear",
   "metadata": {},
   "outputs": [
    {
     "name": "stdout",
     "output_type": "stream",
     "text": [
      "vroom\n",
      "An error occured when trying to call the method description on the instance of RaceCar named f1\n"
     ]
    }
   ],
   "source": [
    "# Create a class that uses the module defined above\n",
    "class RaceCar\n",
    "  include Car\n",
    "end\n",
    "\n",
    "f1 = RaceCar.new\n",
    "# call the method defined in the above module\n",
    "puts f1.engine\n",
    "\n",
    "# try to call the Module method defined above\n",
    "begin\n",
    "  puts f1.description\n",
    "rescue\n",
    "  puts \"An error occured when trying to call the method description on the instance of RaceCar named f1\"\n",
    "end"
   ]
  },
  {
   "cell_type": "markdown",
   "id": "textile-singles",
   "metadata": {},
   "source": [
    "A final note on Modules: they are the best way to implement the an Enum from Java. See below"
   ]
  },
  {
   "cell_type": "code",
   "execution_count": 9,
   "id": "pending-appeal",
   "metadata": {},
   "outputs": [
    {
     "name": "stdout",
     "output_type": "stream",
     "text": [
      "10\n",
      "100\n",
      "1000\n"
     ]
    }
   ],
   "source": [
    "module Foo\n",
    "  BAR = 10\n",
    "  BAZ = 100\n",
    "  BIN = 1000\n",
    "end\n",
    "\n",
    "puts Foo::BAR\n",
    "puts Foo::BAZ\n",
    "puts Foo::BIN"
   ]
  },
  {
   "cell_type": "markdown",
   "id": "corporate-elimination",
   "metadata": {},
   "source": [
    "## Summary\n",
    "| Variable Type | Availability |\n",
    "| --- | --- |\n",
    "| local_variable = 1 | not available in any other scope |\n",
    "| @instance_varable = 2 | available within methods of the instance |\n",
    "| @@class_variable =  3 | available to instances of the class\n",
    "| @global_variable = 4 | available everywhere |\n",
    "| CONSTANT = 5 | available everywhere |\n",
    "| class Klass...end | available everywhere |\n",
    "| module Mod...end | available everywhere|"
   ]
  }
 ],
 "metadata": {
  "kernelspec": {
   "display_name": "Ruby 2.6.3",
   "language": "ruby",
   "name": "ruby"
  },
  "language_info": {
   "file_extension": ".rb",
   "mimetype": "application/x-ruby",
   "name": "ruby",
   "version": "2.6.3"
  }
 },
 "nbformat": 4,
 "nbformat_minor": 5
}
